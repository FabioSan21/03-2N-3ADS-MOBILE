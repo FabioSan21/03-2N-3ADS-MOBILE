{
  "cells": [
    {
      "cell_type": "markdown",
      "metadata": {
        "id": "view-in-github",
        "colab_type": "text"
      },
      "source": [
        "<a href=\"https://colab.research.google.com/github/FabioSan21/03-2N-3ADS-MOBILE/blob/main/Consulta%20dados%20vinhos.ipynb\" target=\"_parent\"><img src=\"https://colab.research.google.com/assets/colab-badge.svg\" alt=\"Open In Colab\"/></a>"
      ]
    },
    {
      "cell_type": "code",
      "source": [],
      "metadata": {
        "id": "8J3FuQOHmQx1"
      },
      "execution_count": null,
      "outputs": []
    },
    {
      "cell_type": "markdown",
      "source": [
        "# Vamos ver a base de dados de alguns vinhos#"
      ],
      "metadata": {
        "id": "N5DEP-emmTCk"
      }
    },
    {
      "cell_type": "code",
      "source": [
        "pip install ucimlrepo"
      ],
      "metadata": {
        "colab": {
          "base_uri": "https://localhost:8080/"
        },
        "id": "sLOjZyEj_16r",
        "outputId": "ef72c244-bc51-44a1-c61b-4539ec018f20"
      },
      "execution_count": 4,
      "outputs": [
        {
          "output_type": "stream",
          "name": "stdout",
          "text": [
            "Collecting ucimlrepo\n",
            "  Downloading ucimlrepo-0.0.7-py3-none-any.whl.metadata (5.5 kB)\n",
            "Requirement already satisfied: pandas>=1.0.0 in /usr/local/lib/python3.10/dist-packages (from ucimlrepo) (2.1.4)\n",
            "Requirement already satisfied: certifi>=2020.12.5 in /usr/local/lib/python3.10/dist-packages (from ucimlrepo) (2024.8.30)\n",
            "Requirement already satisfied: numpy<2,>=1.22.4 in /usr/local/lib/python3.10/dist-packages (from pandas>=1.0.0->ucimlrepo) (1.26.4)\n",
            "Requirement already satisfied: python-dateutil>=2.8.2 in /usr/local/lib/python3.10/dist-packages (from pandas>=1.0.0->ucimlrepo) (2.8.2)\n",
            "Requirement already satisfied: pytz>=2020.1 in /usr/local/lib/python3.10/dist-packages (from pandas>=1.0.0->ucimlrepo) (2024.2)\n",
            "Requirement already satisfied: tzdata>=2022.1 in /usr/local/lib/python3.10/dist-packages (from pandas>=1.0.0->ucimlrepo) (2024.1)\n",
            "Requirement already satisfied: six>=1.5 in /usr/local/lib/python3.10/dist-packages (from python-dateutil>=2.8.2->pandas>=1.0.0->ucimlrepo) (1.16.0)\n",
            "Downloading ucimlrepo-0.0.7-py3-none-any.whl (8.0 kB)\n",
            "Installing collected packages: ucimlrepo\n",
            "Successfully installed ucimlrepo-0.0.7\n"
          ]
        }
      ]
    },
    {
      "cell_type": "markdown",
      "source": [
        "Vamos adicionar a biblioteca do panda"
      ],
      "metadata": {
        "id": "KCAPzBn3Eq48"
      }
    },
    {
      "cell_type": "code",
      "source": [
        "import pandas as pd importando da uci"
      ],
      "metadata": {
        "id": "rJZWqzwtACX8"
      },
      "execution_count": 6,
      "outputs": []
    },
    {
      "cell_type": "code",
      "source": [
        "from ucimlrepo import fetch_ucirepo\n",
        "\n",
        "# fetch dataset\n",
        "wine_quality = fetch_ucirepo(id=186)\n",
        "\n",
        "# data (as pandas dataframes)\n",
        "X = wine_quality.data.features\n",
        "y = wine_quality.data.targets\n",
        "\n",
        "# metadata\n",
        "print(wine_quality.metadata)\n",
        "\n",
        "# variable information\n",
        "print(wine_quality.variables)\n"
      ],
      "metadata": {
        "colab": {
          "base_uri": "https://localhost:8080/"
        },
        "id": "W1H2Ixt0AH3V",
        "outputId": "2bec0e8e-60a7-4459-d6ee-35db645ee5e4"
      },
      "execution_count": 7,
      "outputs": [
        {
          "output_type": "stream",
          "name": "stdout",
          "text": [
            "{'uci_id': 186, 'name': 'Wine Quality', 'repository_url': 'https://archive.ics.uci.edu/dataset/186/wine+quality', 'data_url': 'https://archive.ics.uci.edu/static/public/186/data.csv', 'abstract': 'Two datasets are included, related to red and white vinho verde wine samples, from the north of Portugal. The goal is to model wine quality based on physicochemical tests (see [Cortez et al., 2009], http://www3.dsi.uminho.pt/pcortez/wine/).', 'area': 'Business', 'tasks': ['Classification', 'Regression'], 'characteristics': ['Multivariate'], 'num_instances': 4898, 'num_features': 11, 'feature_types': ['Real'], 'demographics': [], 'target_col': ['quality'], 'index_col': None, 'has_missing_values': 'no', 'missing_values_symbol': None, 'year_of_dataset_creation': 2009, 'last_updated': 'Wed Nov 15 2023', 'dataset_doi': '10.24432/C56S3T', 'creators': ['Paulo Cortez', 'A. Cerdeira', 'F. Almeida', 'T. Matos', 'J. Reis'], 'intro_paper': {'title': 'Modeling wine preferences by data mining from physicochemical properties', 'authors': 'P. Cortez, A. Cerdeira, Fernando Almeida, Telmo Matos, J. Reis', 'published_in': 'Decision Support Systems', 'year': 2009, 'url': 'https://www.semanticscholar.org/paper/Modeling-wine-preferences-by-data-mining-from-Cortez-Cerdeira/bf15a0ccc14ac1deb5cea570c870389c16be019c', 'doi': None}, 'additional_info': {'summary': 'The two datasets are related to red and white variants of the Portuguese \"Vinho Verde\" wine. For more details, consult: http://www.vinhoverde.pt/en/ or the reference [Cortez et al., 2009].  Due to privacy and logistic issues, only physicochemical (inputs) and sensory (the output) variables are available (e.g. there is no data about grape types, wine brand, wine selling price, etc.).\\n\\nThese datasets can be viewed as classification or regression tasks.  The classes are ordered and not balanced (e.g. there are many more normal wines than excellent or poor ones). Outlier detection algorithms could be used to detect the few excellent or poor wines. Also, we are not sure if all input variables are relevant. So it could be interesting to test feature selection methods.\\n', 'purpose': None, 'funded_by': None, 'instances_represent': None, 'recommended_data_splits': None, 'sensitive_data': None, 'preprocessing_description': None, 'variable_info': 'For more information, read [Cortez et al., 2009].\\r\\nInput variables (based on physicochemical tests):\\r\\n   1 - fixed acidity\\r\\n   2 - volatile acidity\\r\\n   3 - citric acid\\r\\n   4 - residual sugar\\r\\n   5 - chlorides\\r\\n   6 - free sulfur dioxide\\r\\n   7 - total sulfur dioxide\\r\\n   8 - density\\r\\n   9 - pH\\r\\n   10 - sulphates\\r\\n   11 - alcohol\\r\\nOutput variable (based on sensory data): \\r\\n   12 - quality (score between 0 and 10)', 'citation': None}}\n",
            "                    name     role         type demographic  \\\n",
            "0          fixed_acidity  Feature   Continuous        None   \n",
            "1       volatile_acidity  Feature   Continuous        None   \n",
            "2            citric_acid  Feature   Continuous        None   \n",
            "3         residual_sugar  Feature   Continuous        None   \n",
            "4              chlorides  Feature   Continuous        None   \n",
            "5    free_sulfur_dioxide  Feature   Continuous        None   \n",
            "6   total_sulfur_dioxide  Feature   Continuous        None   \n",
            "7                density  Feature   Continuous        None   \n",
            "8                     pH  Feature   Continuous        None   \n",
            "9              sulphates  Feature   Continuous        None   \n",
            "10               alcohol  Feature   Continuous        None   \n",
            "11               quality   Target      Integer        None   \n",
            "12                 color    Other  Categorical        None   \n",
            "\n",
            "               description units missing_values  \n",
            "0                     None  None             no  \n",
            "1                     None  None             no  \n",
            "2                     None  None             no  \n",
            "3                     None  None             no  \n",
            "4                     None  None             no  \n",
            "5                     None  None             no  \n",
            "6                     None  None             no  \n",
            "7                     None  None             no  \n",
            "8                     None  None             no  \n",
            "9                     None  None             no  \n",
            "10                    None  None             no  \n",
            "11  score between 0 and 10  None             no  \n",
            "12            red or white  None             no  \n"
          ]
        }
      ]
    },
    {
      "cell_type": "markdown",
      "source": [
        "Aqui vamos importar os dados dos vinhos"
      ],
      "metadata": {
        "id": "w-ZQ6ZMRE3Wb"
      }
    },
    {
      "cell_type": "code",
      "source": [
        "dados = pd.read_csv( 'https://archive.ics.uci.edu/static/public/186/data.csv')"
      ],
      "metadata": {
        "id": "b0r9q7VYAOHn"
      },
      "execution_count": 8,
      "outputs": []
    },
    {
      "cell_type": "code",
      "source": [
        "print(dados)"
      ],
      "metadata": {
        "colab": {
          "base_uri": "https://localhost:8080/"
        },
        "id": "Kz6bxlQTAhMy",
        "outputId": "1fe76be7-2bba-4f5a-cee4-3d0e954b67d8"
      },
      "execution_count": 9,
      "outputs": [
        {
          "output_type": "stream",
          "name": "stdout",
          "text": [
            "      fixed_acidity  volatile_acidity  citric_acid  residual_sugar  chlorides  \\\n",
            "0               7.4              0.70         0.00             1.9      0.076   \n",
            "1               7.8              0.88         0.00             2.6      0.098   \n",
            "2               7.8              0.76         0.04             2.3      0.092   \n",
            "3              11.2              0.28         0.56             1.9      0.075   \n",
            "4               7.4              0.70         0.00             1.9      0.076   \n",
            "...             ...               ...          ...             ...        ...   \n",
            "6492            6.2              0.21         0.29             1.6      0.039   \n",
            "6493            6.6              0.32         0.36             8.0      0.047   \n",
            "6494            6.5              0.24         0.19             1.2      0.041   \n",
            "6495            5.5              0.29         0.30             1.1      0.022   \n",
            "6496            6.0              0.21         0.38             0.8      0.020   \n",
            "\n",
            "      free_sulfur_dioxide  total_sulfur_dioxide  density    pH  sulphates  \\\n",
            "0                    11.0                  34.0  0.99780  3.51       0.56   \n",
            "1                    25.0                  67.0  0.99680  3.20       0.68   \n",
            "2                    15.0                  54.0  0.99700  3.26       0.65   \n",
            "3                    17.0                  60.0  0.99800  3.16       0.58   \n",
            "4                    11.0                  34.0  0.99780  3.51       0.56   \n",
            "...                   ...                   ...      ...   ...        ...   \n",
            "6492                 24.0                  92.0  0.99114  3.27       0.50   \n",
            "6493                 57.0                 168.0  0.99490  3.15       0.46   \n",
            "6494                 30.0                 111.0  0.99254  2.99       0.46   \n",
            "6495                 20.0                 110.0  0.98869  3.34       0.38   \n",
            "6496                 22.0                  98.0  0.98941  3.26       0.32   \n",
            "\n",
            "      alcohol  quality  color  \n",
            "0         9.4        5    red  \n",
            "1         9.8        5    red  \n",
            "2         9.8        5    red  \n",
            "3         9.8        6    red  \n",
            "4         9.4        5    red  \n",
            "...       ...      ...    ...  \n",
            "6492     11.2        6  white  \n",
            "6493      9.6        5  white  \n",
            "6494      9.4        6  white  \n",
            "6495     12.8        7  white  \n",
            "6496     11.8        6  white  \n",
            "\n",
            "[6497 rows x 13 columns]\n"
          ]
        }
      ]
    },
    {
      "cell_type": "markdown",
      "source": [
        "Vamos consultar os dados apartir daqui"
      ],
      "metadata": {
        "id": "vY_yxo2rFAPK"
      }
    },
    {
      "cell_type": "code",
      "source": [
        "print(dados['fixed_acidity'].value_counts())"
      ],
      "metadata": {
        "colab": {
          "base_uri": "https://localhost:8080/"
        },
        "id": "W6N_Mh9UA3-g",
        "outputId": "f0e6db8d-9fff-4460-f6b8-9789052c100e"
      },
      "execution_count": 10,
      "outputs": [
        {
          "output_type": "stream",
          "name": "stdout",
          "text": [
            "fixed_acidity\n",
            "6.8     354\n",
            "6.6     327\n",
            "6.4     305\n",
            "7.0     282\n",
            "6.9     279\n",
            "       ... \n",
            "14.0      1\n",
            "14.3      1\n",
            "13.8      1\n",
            "13.5      1\n",
            "3.9       1\n",
            "Name: count, Length: 106, dtype: int64\n"
          ]
        }
      ]
    },
    {
      "cell_type": "code",
      "source": [
        "print(dados['alcohol'].value_counts())"
      ],
      "metadata": {
        "colab": {
          "base_uri": "https://localhost:8080/"
        },
        "id": "7y8lC42JBhyj",
        "outputId": "dc228f02-99ea-4042-9275-04dca2895549"
      },
      "execution_count": 11,
      "outputs": [
        {
          "output_type": "stream",
          "name": "stdout",
          "text": [
            "alcohol\n",
            "9.500000     367\n",
            "9.400000     332\n",
            "9.200000     271\n",
            "10.000000    229\n",
            "10.500000    227\n",
            "            ... \n",
            "11.366667      1\n",
            "9.750000       1\n",
            "11.350000      1\n",
            "14.050000      1\n",
            "12.050000      1\n",
            "Name: count, Length: 111, dtype: int64\n"
          ]
        }
      ]
    },
    {
      "cell_type": "code",
      "source": [
        "print(dados['citric_acid'].value_counts())"
      ],
      "metadata": {
        "colab": {
          "base_uri": "https://localhost:8080/"
        },
        "id": "6ASS3NpRiF9h",
        "outputId": "8e49b79c-e0a8-45d5-b49f-b8c29f0036e8"
      },
      "execution_count": 13,
      "outputs": [
        {
          "output_type": "stream",
          "name": "stdout",
          "text": [
            "citric_acid\n",
            "0.30    337\n",
            "0.28    301\n",
            "0.32    289\n",
            "0.49    283\n",
            "0.26    257\n",
            "       ... \n",
            "0.88      1\n",
            "1.66      1\n",
            "0.99      1\n",
            "1.23      1\n",
            "0.86      1\n",
            "Name: count, Length: 89, dtype: int64\n"
          ]
        }
      ]
    },
    {
      "cell_type": "code",
      "source": [
        "print(dados['volatile_acidity'].value_counts())"
      ],
      "metadata": {
        "colab": {
          "base_uri": "https://localhost:8080/"
        },
        "id": "MMRXGvIpiYoG",
        "outputId": "9a28594b-ae8e-4b20-ae45-4ae94520907c"
      },
      "execution_count": 14,
      "outputs": [
        {
          "output_type": "stream",
          "name": "stdout",
          "text": [
            "volatile_acidity\n",
            "0.280    286\n",
            "0.240    266\n",
            "0.260    256\n",
            "0.250    238\n",
            "0.220    235\n",
            "        ... \n",
            "1.010      1\n",
            "1.090      1\n",
            "0.905      1\n",
            "0.805      1\n",
            "0.355      1\n",
            "Name: count, Length: 187, dtype: int64\n"
          ]
        }
      ]
    },
    {
      "cell_type": "code",
      "source": [
        "print(dados['chlorides'].value_counts())"
      ],
      "metadata": {
        "colab": {
          "base_uri": "https://localhost:8080/"
        },
        "id": "9iGIHihBjNQA",
        "outputId": "a374a083-3bd8-4912-e9db-f020fe608335"
      },
      "execution_count": 16,
      "outputs": [
        {
          "output_type": "stream",
          "name": "stdout",
          "text": [
            "chlorides\n",
            "0.044    206\n",
            "0.036    200\n",
            "0.042    187\n",
            "0.046    185\n",
            "0.050    182\n",
            "        ... \n",
            "0.387      1\n",
            "0.422      1\n",
            "0.222      1\n",
            "0.143      1\n",
            "0.212      1\n",
            "Name: count, Length: 214, dtype: int64\n"
          ]
        }
      ]
    },
    {
      "cell_type": "code",
      "source": [
        "print(dados['free_sulfur_dioxide'].value_counts())"
      ],
      "metadata": {
        "colab": {
          "base_uri": "https://localhost:8080/"
        },
        "id": "Ke9GdM-GjYph",
        "outputId": "4fb64971-255b-42a2-a34d-3297d8a4a818"
      },
      "execution_count": 17,
      "outputs": [
        {
          "output_type": "stream",
          "name": "stdout",
          "text": [
            "free_sulfur_dioxide\n",
            "29.0    183\n",
            "6.0     170\n",
            "26.0    161\n",
            "15.0    157\n",
            "24.0    152\n",
            "       ... \n",
            "19.5      1\n",
            "89.0      1\n",
            "82.5      1\n",
            "93.0      1\n",
            "97.0      1\n",
            "Name: count, Length: 135, dtype: int64\n"
          ]
        }
      ]
    },
    {
      "cell_type": "code",
      "source": [
        "print(dados['total_sulfur_dioxide'].value_counts())"
      ],
      "metadata": {
        "colab": {
          "base_uri": "https://localhost:8080/"
        },
        "id": "HvS_PHmTj677",
        "outputId": "38965201-a899-4f1c-f4dc-e00576c42416"
      },
      "execution_count": 18,
      "outputs": [
        {
          "output_type": "stream",
          "name": "stdout",
          "text": [
            "total_sulfur_dioxide\n",
            "111.0    72\n",
            "113.0    65\n",
            "117.0    57\n",
            "122.0    57\n",
            "128.0    56\n",
            "         ..\n",
            "246.0     1\n",
            "255.0     1\n",
            "234.5     1\n",
            "249.5     1\n",
            "440.0     1\n",
            "Name: count, Length: 276, dtype: int64\n"
          ]
        }
      ]
    },
    {
      "cell_type": "code",
      "source": [
        "print(dados['density'].value_counts())"
      ],
      "metadata": {
        "colab": {
          "base_uri": "https://localhost:8080/"
        },
        "id": "P4faogphkSDd",
        "outputId": "78fa1094-5f6b-459a-8507-3e94af67fc4a"
      },
      "execution_count": 20,
      "outputs": [
        {
          "output_type": "stream",
          "name": "stdout",
          "text": [
            "density\n",
            "0.99760    69\n",
            "0.99720    69\n",
            "0.99800    64\n",
            "0.99200    64\n",
            "0.99280    63\n",
            "           ..\n",
            "0.99852     1\n",
            "0.99833     1\n",
            "0.98853     1\n",
            "0.99589     1\n",
            "0.98941     1\n",
            "Name: count, Length: 998, dtype: int64\n"
          ]
        }
      ]
    },
    {
      "cell_type": "code",
      "source": [
        "print(dados['pH'].value_counts())"
      ],
      "metadata": {
        "colab": {
          "base_uri": "https://localhost:8080/"
        },
        "id": "u2fq4HYwkZhv",
        "outputId": "5e5bdd76-0d83-4cb7-f207-c52e085b30ac"
      },
      "execution_count": 23,
      "outputs": [
        {
          "output_type": "stream",
          "name": "stdout",
          "text": [
            "pH\n",
            "3.16    200\n",
            "3.14    193\n",
            "3.22    185\n",
            "3.20    176\n",
            "3.15    170\n",
            "       ... \n",
            "2.77      1\n",
            "2.72      1\n",
            "3.81      1\n",
            "3.82      1\n",
            "2.82      1\n",
            "Name: count, Length: 108, dtype: int64\n"
          ]
        }
      ]
    },
    {
      "cell_type": "code",
      "source": [
        "print(dados['sulphates'].value_counts())"
      ],
      "metadata": {
        "colab": {
          "base_uri": "https://localhost:8080/"
        },
        "id": "pduX_qI3koVd",
        "outputId": "d07b733e-543b-487c-fe1f-9ee5a0e8849d"
      },
      "execution_count": 24,
      "outputs": [
        {
          "output_type": "stream",
          "name": "stdout",
          "text": [
            "sulphates\n",
            "0.50    276\n",
            "0.46    243\n",
            "0.54    235\n",
            "0.44    232\n",
            "0.38    214\n",
            "       ... \n",
            "1.11      1\n",
            "1.12      1\n",
            "1.61      1\n",
            "1.09      1\n",
            "0.23      1\n",
            "Name: count, Length: 111, dtype: int64\n"
          ]
        }
      ]
    },
    {
      "cell_type": "code",
      "source": [
        "print(dados['quality'].value_counts())"
      ],
      "metadata": {
        "colab": {
          "base_uri": "https://localhost:8080/"
        },
        "id": "OIpo86smk6oR",
        "outputId": "ff66b4e9-c74b-4c40-bfb7-e5829a7ea35a"
      },
      "execution_count": 25,
      "outputs": [
        {
          "output_type": "stream",
          "name": "stdout",
          "text": [
            "quality\n",
            "6    2836\n",
            "5    2138\n",
            "7    1079\n",
            "4     216\n",
            "8     193\n",
            "3      30\n",
            "9       5\n",
            "Name: count, dtype: int64\n"
          ]
        }
      ]
    },
    {
      "cell_type": "code",
      "source": [
        "print(dados['color'].value_counts())"
      ],
      "metadata": {
        "colab": {
          "base_uri": "https://localhost:8080/"
        },
        "id": "F90QJJwulJXu",
        "outputId": "c4c97ee3-e20d-4dfb-88c7-5c7a2aa4b87f"
      },
      "execution_count": 26,
      "outputs": [
        {
          "output_type": "stream",
          "name": "stdout",
          "text": [
            "color\n",
            "white    4898\n",
            "red      1599\n",
            "Name: count, dtype: int64\n"
          ]
        }
      ]
    },
    {
      "cell_type": "code",
      "source": [],
      "metadata": {
        "id": "ZWEy5zpmlXBx"
      },
      "execution_count": null,
      "outputs": []
    }
  ],
  "metadata": {
    "colab": {
      "provenance": [],
      "include_colab_link": true
    },
    "kernelspec": {
      "display_name": "Python 3",
      "name": "python3"
    }
  },
  "nbformat": 4,
  "nbformat_minor": 0
}